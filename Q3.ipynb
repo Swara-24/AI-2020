{
  "nbformat": 4,
  "nbformat_minor": 0,
  "metadata": {
    "colab": {
      "name": "Q3.ipynb",
      "provenance": [],
      "authorship_tag": "ABX9TyNzpeVTN8oeSvtZHYE5BKqd",
      "include_colab_link": true
    },
    "kernelspec": {
      "name": "python3",
      "display_name": "Python 3"
    }
  },
  "cells": [
    {
      "cell_type": "markdown",
      "metadata": {
        "id": "view-in-github",
        "colab_type": "text"
      },
      "source": [
        "<a href=\"https://colab.research.google.com/github/Swara-24/AI-2020/blob/master/Q3.ipynb\" target=\"_parent\"><img src=\"https://colab.research.google.com/assets/colab-badge.svg\" alt=\"Open In Colab\"/></a>"
      ]
    },
    {
      "cell_type": "markdown",
      "metadata": {
        "id": "QuYCiqhdcHd7",
        "colab_type": "text"
      },
      "source": [
        "Q3) What is the effect of change in the learning rate ?"
      ]
    },
    {
      "cell_type": "code",
      "metadata": {
        "id": "EMXlblR5cUXI",
        "colab_type": "code",
        "colab": {}
      },
      "source": [
        "import numpy as np\n",
        "\n",
        "class Perceptron(object):\n",
        "\n",
        "    def __init__(self, no_of_inputs, threshold = 5, learning_rate = 5):\n",
        "        self.threshold = threshold\n",
        "        self.learning_rate = learning_rate\n",
        "        self.weights = np.zeros(no_of_inputs + 1)\n",
        "           \n",
        "    def predict(self, inputs):\n",
        "        summation = np.dot(inputs, self.weights[1:]) + self.weights[0]\n",
        "        if summation > 0:\n",
        "          activation = 1\n",
        "        else:\n",
        "          activation = 0            \n",
        "        return activation\n",
        "\n",
        "    def train(self, training_inputs, labels):\n",
        "        for _ in range(self.threshold + 1):\n",
        "            for inputs, label in zip(training_inputs, labels):\n",
        "                prediction = self.predict(inputs)\n",
        "                self.weights[1:] += self.learning_rate * (label - prediction) * inputs\n",
        "                self.weights[0] += self.learning_rate * (label - prediction)\n",
        "                print(\"Inputs : \", inputs, end=\"\\t\")\n",
        "                print(\"Labels : \", label)\n",
        "                print(\"Outputs : \", prediction)\n",
        "                print(\"Weights : \", self.weights[1:])\n",
        "                print(\"Bias : \", self.weights[0])\n",
        "              \n"
      ],
      "execution_count": 2,
      "outputs": []
    },
    {
      "cell_type": "code",
      "metadata": {
        "id": "yGM7cT0bcnRB",
        "colab_type": "code",
        "colab": {
          "base_uri": "https://localhost:8080/",
          "height": 1000
        },
        "outputId": "5ead254d-d856-46bb-b0f0-d8c6ee2ae909"
      },
      "source": [
        "training_inputs = []\n",
        "training_inputs.append(np.array([1, 1]))\n",
        "training_inputs.append(np.array([1, 0]))\n",
        "training_inputs.append(np.array([0, 1]))\n",
        "training_inputs.append(np.array([0, 0]))\n",
        "\n",
        "labels = np.array([1, 0, 0, 0])\n",
        "\n",
        "perceptron = Perceptron(2)\n",
        "perceptron.train(training_inputs, labels)"
      ],
      "execution_count": 3,
      "outputs": [
        {
          "output_type": "stream",
          "text": [
            "Inputs :  [1 1]\tLabels :  1\n",
            "Outputs :  0\n",
            "Weights :  [5. 5.]\n",
            "Bias :  5.0\n",
            "Inputs :  [1 0]\tLabels :  0\n",
            "Outputs :  1\n",
            "Weights :  [0. 5.]\n",
            "Bias :  0.0\n",
            "Inputs :  [0 1]\tLabels :  0\n",
            "Outputs :  1\n",
            "Weights :  [0. 0.]\n",
            "Bias :  -5.0\n",
            "Inputs :  [0 0]\tLabels :  0\n",
            "Outputs :  0\n",
            "Weights :  [0. 0.]\n",
            "Bias :  -5.0\n",
            "Inputs :  [1 1]\tLabels :  1\n",
            "Outputs :  0\n",
            "Weights :  [5. 5.]\n",
            "Bias :  0.0\n",
            "Inputs :  [1 0]\tLabels :  0\n",
            "Outputs :  1\n",
            "Weights :  [0. 5.]\n",
            "Bias :  -5.0\n",
            "Inputs :  [0 1]\tLabels :  0\n",
            "Outputs :  0\n",
            "Weights :  [0. 5.]\n",
            "Bias :  -5.0\n",
            "Inputs :  [0 0]\tLabels :  0\n",
            "Outputs :  0\n",
            "Weights :  [0. 5.]\n",
            "Bias :  -5.0\n",
            "Inputs :  [1 1]\tLabels :  1\n",
            "Outputs :  0\n",
            "Weights :  [ 5. 10.]\n",
            "Bias :  0.0\n",
            "Inputs :  [1 0]\tLabels :  0\n",
            "Outputs :  1\n",
            "Weights :  [ 0. 10.]\n",
            "Bias :  -5.0\n",
            "Inputs :  [0 1]\tLabels :  0\n",
            "Outputs :  1\n",
            "Weights :  [0. 5.]\n",
            "Bias :  -10.0\n",
            "Inputs :  [0 0]\tLabels :  0\n",
            "Outputs :  0\n",
            "Weights :  [0. 5.]\n",
            "Bias :  -10.0\n",
            "Inputs :  [1 1]\tLabels :  1\n",
            "Outputs :  0\n",
            "Weights :  [ 5. 10.]\n",
            "Bias :  -5.0\n",
            "Inputs :  [1 0]\tLabels :  0\n",
            "Outputs :  0\n",
            "Weights :  [ 5. 10.]\n",
            "Bias :  -5.0\n",
            "Inputs :  [0 1]\tLabels :  0\n",
            "Outputs :  1\n",
            "Weights :  [5. 5.]\n",
            "Bias :  -10.0\n",
            "Inputs :  [0 0]\tLabels :  0\n",
            "Outputs :  0\n",
            "Weights :  [5. 5.]\n",
            "Bias :  -10.0\n",
            "Inputs :  [1 1]\tLabels :  1\n",
            "Outputs :  0\n",
            "Weights :  [10. 10.]\n",
            "Bias :  -5.0\n",
            "Inputs :  [1 0]\tLabels :  0\n",
            "Outputs :  1\n",
            "Weights :  [ 5. 10.]\n",
            "Bias :  -10.0\n",
            "Inputs :  [0 1]\tLabels :  0\n",
            "Outputs :  0\n",
            "Weights :  [ 5. 10.]\n",
            "Bias :  -10.0\n",
            "Inputs :  [0 0]\tLabels :  0\n",
            "Outputs :  0\n",
            "Weights :  [ 5. 10.]\n",
            "Bias :  -10.0\n",
            "Inputs :  [1 1]\tLabels :  1\n",
            "Outputs :  1\n",
            "Weights :  [ 5. 10.]\n",
            "Bias :  -10.0\n",
            "Inputs :  [1 0]\tLabels :  0\n",
            "Outputs :  0\n",
            "Weights :  [ 5. 10.]\n",
            "Bias :  -10.0\n",
            "Inputs :  [0 1]\tLabels :  0\n",
            "Outputs :  0\n",
            "Weights :  [ 5. 10.]\n",
            "Bias :  -10.0\n",
            "Inputs :  [0 0]\tLabels :  0\n",
            "Outputs :  0\n",
            "Weights :  [ 5. 10.]\n",
            "Bias :  -10.0\n"
          ],
          "name": "stdout"
        }
      ]
    },
    {
      "cell_type": "code",
      "metadata": {
        "id": "dhqpuRkpc2Z-",
        "colab_type": "code",
        "colab": {
          "base_uri": "https://localhost:8080/",
          "height": 34
        },
        "outputId": "e61d7135-f90e-449b-a249-06ff973f3bc3"
      },
      "source": [
        "inputs = np.array([1, 1])\n",
        "perceptron.predict(inputs) \n"
      ],
      "execution_count": 4,
      "outputs": [
        {
          "output_type": "execute_result",
          "data": {
            "text/plain": [
              "1"
            ]
          },
          "metadata": {
            "tags": []
          },
          "execution_count": 4
        }
      ]
    },
    {
      "cell_type": "code",
      "metadata": {
        "id": "dEcssLg0dAPN",
        "colab_type": "code",
        "colab": {
          "base_uri": "https://localhost:8080/",
          "height": 34
        },
        "outputId": "8e5e1b9e-c23c-41e7-c4a2-3d29b666f02d"
      },
      "source": [
        "inputs = np.array([0, 1])\n",
        "perceptron.predict(inputs) "
      ],
      "execution_count": 5,
      "outputs": [
        {
          "output_type": "execute_result",
          "data": {
            "text/plain": [
              "0"
            ]
          },
          "metadata": {
            "tags": []
          },
          "execution_count": 5
        }
      ]
    }
  ]
}