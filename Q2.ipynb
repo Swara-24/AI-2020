{
  "nbformat": 4,
  "nbformat_minor": 0,
  "metadata": {
    "colab": {
      "name": "Q2.ipynb",
      "provenance": [],
      "authorship_tag": "ABX9TyOlsnT6gdifrdXPXQaF9aH1",
      "include_colab_link": true
    },
    "kernelspec": {
      "name": "python3",
      "display_name": "Python 3"
    }
  },
  "cells": [
    {
      "cell_type": "markdown",
      "metadata": {
        "id": "view-in-github",
        "colab_type": "text"
      },
      "source": [
        "<a href=\"https://colab.research.google.com/github/Swara-24/AI-2020/blob/master/Q2.ipynb\" target=\"_parent\"><img src=\"https://colab.research.google.com/assets/colab-badge.svg\" alt=\"Open In Colab\"/></a>"
      ]
    },
    {
      "cell_type": "markdown",
      "metadata": {
        "id": "IO1ICt9eX6KT",
        "colab_type": "text"
      },
      "source": [
        "Q2) Printing weight and bias for all the epochs:"
      ]
    },
    {
      "cell_type": "code",
      "metadata": {
        "id": "Jfq8ogmvYF1j",
        "colab_type": "code",
        "colab": {}
      },
      "source": [
        "import numpy as np\n",
        "\n",
        "class Perceptron(object):\n",
        "\n",
        "    def __init__(self, no_of_inputs, threshold=5, learning_rate=0.5):\n",
        "        self.threshold = threshold\n",
        "        self.learning_rate = learning_rate\n",
        "        self.weights = np.zeros(no_of_inputs + 1)\n",
        "           \n",
        "    def predict(self, inputs):\n",
        "        summation = np.dot(inputs, self.weights[1:]) + self.weights[0]\n",
        "        if summation > 0:\n",
        "          activation = 1\n",
        "        else:\n",
        "          activation = 0            \n",
        "        return activation\n",
        "\n",
        "    def train(self, training_inputs, labels):\n",
        "        for _ in range(self.threshold + 1):\n",
        "            for inputs, label in zip(training_inputs, labels):\n",
        "                prediction = self.predict(inputs)\n",
        "                self.weights[1:] += self.learning_rate * (label - prediction) * inputs\n",
        "                self.weights[0] += self.learning_rate * (label - prediction)\n",
        "                print(\"Inputs : \", inputs, end=\"\\t\")\n",
        "                print(\"Labels : \", label)\n",
        "                print(\"Outputs : \", prediction)\n",
        "                print(\"Weights : \", self.weights[1:])\n",
        "                print(\"Bias : \", self.weights[0])"
      ],
      "execution_count": 1,
      "outputs": []
    },
    {
      "cell_type": "code",
      "metadata": {
        "id": "WK_sxSnoYU9B",
        "colab_type": "code",
        "colab": {
          "base_uri": "https://localhost:8080/",
          "height": 1000
        },
        "outputId": "87eca3f8-71fd-4536-a9b7-33b41e6eab4c"
      },
      "source": [
        "training_inputs = []\n",
        "training_inputs.append(np.array([1, 1]))\n",
        "training_inputs.append(np.array([1, 0]))\n",
        "training_inputs.append(np.array([0, 1]))\n",
        "training_inputs.append(np.array([0, 0]))\n",
        "\n",
        "labels = np.array([1, 0, 0, 0])\n",
        "\n",
        "perceptron = Perceptron(2)\n",
        "perceptron.train(training_inputs, labels)"
      ],
      "execution_count": 2,
      "outputs": [
        {
          "output_type": "stream",
          "text": [
            "Inputs :  [1 1]\tLabels :  1\n",
            "Outputs :  0\n",
            "Weights :  [0.5 0.5]\n",
            "Bias :  0.5\n",
            "Inputs :  [1 0]\tLabels :  0\n",
            "Outputs :  1\n",
            "Weights :  [0.  0.5]\n",
            "Bias :  0.0\n",
            "Inputs :  [0 1]\tLabels :  0\n",
            "Outputs :  1\n",
            "Weights :  [0. 0.]\n",
            "Bias :  -0.5\n",
            "Inputs :  [0 0]\tLabels :  0\n",
            "Outputs :  0\n",
            "Weights :  [0. 0.]\n",
            "Bias :  -0.5\n",
            "Inputs :  [1 1]\tLabels :  1\n",
            "Outputs :  0\n",
            "Weights :  [0.5 0.5]\n",
            "Bias :  0.0\n",
            "Inputs :  [1 0]\tLabels :  0\n",
            "Outputs :  1\n",
            "Weights :  [0.  0.5]\n",
            "Bias :  -0.5\n",
            "Inputs :  [0 1]\tLabels :  0\n",
            "Outputs :  0\n",
            "Weights :  [0.  0.5]\n",
            "Bias :  -0.5\n",
            "Inputs :  [0 0]\tLabels :  0\n",
            "Outputs :  0\n",
            "Weights :  [0.  0.5]\n",
            "Bias :  -0.5\n",
            "Inputs :  [1 1]\tLabels :  1\n",
            "Outputs :  0\n",
            "Weights :  [0.5 1. ]\n",
            "Bias :  0.0\n",
            "Inputs :  [1 0]\tLabels :  0\n",
            "Outputs :  1\n",
            "Weights :  [0. 1.]\n",
            "Bias :  -0.5\n",
            "Inputs :  [0 1]\tLabels :  0\n",
            "Outputs :  1\n",
            "Weights :  [0.  0.5]\n",
            "Bias :  -1.0\n",
            "Inputs :  [0 0]\tLabels :  0\n",
            "Outputs :  0\n",
            "Weights :  [0.  0.5]\n",
            "Bias :  -1.0\n",
            "Inputs :  [1 1]\tLabels :  1\n",
            "Outputs :  0\n",
            "Weights :  [0.5 1. ]\n",
            "Bias :  -0.5\n",
            "Inputs :  [1 0]\tLabels :  0\n",
            "Outputs :  0\n",
            "Weights :  [0.5 1. ]\n",
            "Bias :  -0.5\n",
            "Inputs :  [0 1]\tLabels :  0\n",
            "Outputs :  1\n",
            "Weights :  [0.5 0.5]\n",
            "Bias :  -1.0\n",
            "Inputs :  [0 0]\tLabels :  0\n",
            "Outputs :  0\n",
            "Weights :  [0.5 0.5]\n",
            "Bias :  -1.0\n",
            "Inputs :  [1 1]\tLabels :  1\n",
            "Outputs :  0\n",
            "Weights :  [1. 1.]\n",
            "Bias :  -0.5\n",
            "Inputs :  [1 0]\tLabels :  0\n",
            "Outputs :  1\n",
            "Weights :  [0.5 1. ]\n",
            "Bias :  -1.0\n",
            "Inputs :  [0 1]\tLabels :  0\n",
            "Outputs :  0\n",
            "Weights :  [0.5 1. ]\n",
            "Bias :  -1.0\n",
            "Inputs :  [0 0]\tLabels :  0\n",
            "Outputs :  0\n",
            "Weights :  [0.5 1. ]\n",
            "Bias :  -1.0\n",
            "Inputs :  [1 1]\tLabels :  1\n",
            "Outputs :  1\n",
            "Weights :  [0.5 1. ]\n",
            "Bias :  -1.0\n",
            "Inputs :  [1 0]\tLabels :  0\n",
            "Outputs :  0\n",
            "Weights :  [0.5 1. ]\n",
            "Bias :  -1.0\n",
            "Inputs :  [0 1]\tLabels :  0\n",
            "Outputs :  0\n",
            "Weights :  [0.5 1. ]\n",
            "Bias :  -1.0\n",
            "Inputs :  [0 0]\tLabels :  0\n",
            "Outputs :  0\n",
            "Weights :  [0.5 1. ]\n",
            "Bias :  -1.0\n"
          ],
          "name": "stdout"
        }
      ]
    },
    {
      "cell_type": "code",
      "metadata": {
        "id": "S6kxInEYYiLj",
        "colab_type": "code",
        "colab": {
          "base_uri": "https://localhost:8080/",
          "height": 34
        },
        "outputId": "7a6bfe8f-213d-4523-f995-7518a13215ee"
      },
      "source": [
        "inputs = np.array([1, 1])\n",
        "perceptron.predict(inputs) \n"
      ],
      "execution_count": 3,
      "outputs": [
        {
          "output_type": "execute_result",
          "data": {
            "text/plain": [
              "1"
            ]
          },
          "metadata": {
            "tags": []
          },
          "execution_count": 3
        }
      ]
    },
    {
      "cell_type": "code",
      "metadata": {
        "id": "AB29MOe1YqJ6",
        "colab_type": "code",
        "colab": {
          "base_uri": "https://localhost:8080/",
          "height": 34
        },
        "outputId": "199672ac-56c5-4f29-bc48-d7c3f4ed6e09"
      },
      "source": [
        "inputs = np.array([0, 1])\n",
        "perceptron.predict(inputs) "
      ],
      "execution_count": 4,
      "outputs": [
        {
          "output_type": "execute_result",
          "data": {
            "text/plain": [
              "0"
            ]
          },
          "metadata": {
            "tags": []
          },
          "execution_count": 4
        }
      ]
    }
  ]
}